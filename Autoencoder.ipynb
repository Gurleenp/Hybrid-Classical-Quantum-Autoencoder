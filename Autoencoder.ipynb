{
 "cells": [
  {
   "cell_type": "markdown",
   "id": "3deb9636",
   "metadata": {},
   "source": [
    "This is an implementation of the quantum autoencoder of  https://arxiv.org/abs/1612.02806.\n",
    "In order to encrypt given image data using this autoencoder, the reference state can be randomnly chosen and kept secret. The image can then be compressed with respect to this reference state. Decoding the encryption would require the chosen reference state as a key to decompress the image."
   ]
  },
  {
   "cell_type": "code",
   "execution_count": 23,
   "id": "e1d1b675",
   "metadata": {},
   "outputs": [],
   "source": [
    "import os\n",
    "os.environ[\"KMP_DUPLICATE_LIB_OK\"]=\"TRUE\""
   ]
  },
  {
   "cell_type": "code",
   "execution_count": 24,
   "id": "898dc1c0",
   "metadata": {},
   "outputs": [],
   "source": [
    "import pennylane as qml\n",
    "import numpy as np\n",
    "import torch\n",
    "from torch.utils.data import Dataset\n",
    "import torch.optim as optim\n",
    "import torch.nn as nn\n",
    "from torchvision import datasets, transforms\n",
    "import matplotlib.pyplot as plt\n",
    "import random"
   ]
  },
  {
   "cell_type": "markdown",
   "id": "18e39375",
   "metadata": {},
   "source": [
    "The following cell implements two circuits on 2 qubits using pennylane. \n",
    "The function \"circuit\" first performs an amplitude embedding of the inputted data to compress, and then applies a series of rotations and controlled rotations. It then outputs the density matrix of the \"trash\" qubit.\n",
    "The second function \"cost\" takes in the density matrix of the trash state and returns the fidelity of the trash state with the reference state which in this case is the |0> state. Since we want the expectation value <0|A|0>, we just need the first index of the density matrix."
   ]
  },
  {
   "cell_type": "code",
   "execution_count": 25,
   "id": "cca13ce7",
   "metadata": {},
   "outputs": [],
   "source": [
    "n_qubits = 2\n",
    "n_trash = 1\n",
    "\n",
    "dev = qml.device(\"default.qubit\", wires=n_qubits)\n",
    "\n",
    "@qml.qnode(dev, interface='torch')\n",
    "\n",
    "def circuit(inputs, weights):\n",
    "    \n",
    "    #Initializing the wave function\n",
    "    qml.AmplitudeEmbedding(features = inputs, wires = list(range(n_qubits)), normalize = True)\n",
    "    \n",
    "    #Applying the rotations\n",
    "    qml.RX(weights[0], wires = [0])\n",
    "    qml.RX(weights[1], wires = [1])\n",
    "    qml.CRX(weights[2], wires = [0, 1])\n",
    "    qml.CRY(weights[3], wires = [0, 1])\n",
    "    qml.CRX(weights[4], wires = [1, 0])\n",
    "    qml.CRY(weights[5], wires = [1, 0])\n",
    "    qml.CRX(weights[6], wires = [0, 1])\n",
    "    qml.CRY(weights[7], wires = [0, 1])\n",
    "    qml.RY(weights[8], wires = [0])\n",
    "    qml.RY(weights[9], wires = [1])\n",
    "    \n",
    "    #Tracing out the second qubit with density_matrix\n",
    "    return qml.density_matrix(wires = [0])\n",
    "    \n",
    "def cost(density_mat):\n",
    "    return 1-density_mat[0][0]"
   ]
  },
  {
   "cell_type": "markdown",
   "id": "277307a6",
   "metadata": {},
   "source": [
    "The following cell builds a neural network with the quantum layer defined by the circuit in the previous cell. Additional classical or quantum layers can easily be added here."
   ]
  },
  {
   "cell_type": "code",
   "execution_count": 26,
   "id": "535e9315",
   "metadata": {},
   "outputs": [],
   "source": [
    "class Net(nn.Module):\n",
    "    def __init__(self):\n",
    "        super(Net, self).__init__()\n",
    "        self.weight_shapes = {\"weights\": 10}\n",
    "        self.qlayer = qml.qnn.TorchLayer(circuit, self.weight_shapes)\n",
    "        #Additional classical or quantum layers can be added here\n",
    "    \n",
    "    def forward(self, data):\n",
    "        return self.qlayer.forward(data)\n",
    "        \n",
    "    \n",
    "    def backward(self, data):\n",
    "        return self.qlayer.forward(data)"
   ]
  },
  {
   "cell_type": "markdown",
   "id": "3ea55d58",
   "metadata": {},
   "source": [
    "The following cell generates the synthetic binary images which will be used to train the model. Some examples are shown visually."
   ]
  },
  {
   "cell_type": "code",
   "execution_count": 27,
   "id": "360a2a88",
   "metadata": {},
   "outputs": [
    {
     "data": {
      "image/png": "[encoded data removed]",
      "text/plain": [
       "<Figure size 720x720 with 6 Axes>"
      ]
     },
     "metadata": {
      "needs_background": "light"
     },
     "output_type": "display_data"
    }
   ],
   "source": [
    "class binary_dataset(Dataset):\n",
    "    def __init__(self, n_samples):\n",
    "        self.n_samples = n_samples\n",
    "        unnorm_data = [np.random.randint(0, 2, size=4) for _ in range(2*(n_samples+1))]\n",
    "        unnorm_data = [x for x in unnorm_data if sum(x)!=0 ]\n",
    "        self.data = [x/np.linalg.norm(x) for x in unnorm_data]\n",
    "    \n",
    "    def __len__(self):\n",
    "        return self.n_samples\n",
    "    \n",
    "    def __getitem__(self, i):\n",
    "        return self.data[i]\n",
    "\n",
    "#Sampling the dataset for training data\n",
    "n_samples = 10\n",
    "X_train = binary_dataset(n_samples)\n",
    "train_loader = torch.utils.data.DataLoader(X_train, batch_size=1, shuffle=True, collate_fn = None)\n",
    "\n",
    "#Showing some examples of the training data\n",
    "n_samples_show = 6\n",
    "\n",
    "data_iter = iter(train_loader)\n",
    "fig, axes = plt.subplots(nrows=1, ncols=n_samples_show, figsize=(10, 10))\n",
    "while n_samples_show > 0:\n",
    "    images = data_iter.__next__()\n",
    "    axes[n_samples_show - 1].imshow(images.reshape(2, 2), cmap='gray')\n",
    "    n_samples_show -= 1"
   ]
  },
  {
   "cell_type": "code",
   "execution_count": 28,
   "id": "26cc1740",
   "metadata": {},
   "outputs": [],
   "source": [
    "model = Net()"
   ]
  },
  {
   "cell_type": "markdown",
   "id": "aafb836c",
   "metadata": {},
   "source": [
    "The following cell trains the model. Each data point will be trained separately, meaning that a separate set of weights will be generated for each data point, and stored in weights_list."
   ]
  },
  {
   "cell_type": "code",
   "execution_count": 29,
   "id": "7e317d3b",
   "metadata": {},
   "outputs": [],
   "source": [
    "optimizer = optim.Adam(model.parameters(), lr=0.01)\n",
    "epochs = 1000\n",
    "weights_list = []\n",
    "data_list = []\n",
    "model.train()\n",
    "\n",
    "for batch_idx, data in enumerate(train_loader):\n",
    "    data_list.append(data)\n",
    "    for epoch in range(epochs):\n",
    "        optimizer.zero_grad()\n",
    "        output = model(data)\n",
    "        loss = cost(output)\n",
    "        loss.backward()\n",
    "        optimizer.step()\n",
    "        '''\n",
    "        print('Training [{:.2f}%]\\tLoss: {:.10f}'.format(\n",
    "        100. * (epoch + 1) / epochs, loss))'''\n",
    "    weights_list.append(model.parameters())"
   ]
  },
  {
   "cell_type": "markdown",
   "id": "c90935d4",
   "metadata": {},
   "source": [
    "The following cells evaluate the model using Qiskit. I chose to use Qiskit so that I could easily make use of the unitary and statevector simulators."
   ]
  },
  {
   "cell_type": "code",
   "execution_count": 30,
   "id": "b14d22f7",
   "metadata": {},
   "outputs": [],
   "source": [
    "from qiskit import QuantumCircuit, Aer, execute\n",
    "from qiskit.quantum_info import Statevector, state_fidelity"
   ]
  },
  {
   "cell_type": "code",
   "execution_count": 31,
   "id": "c4df61bd",
   "metadata": {
    "scrolled": false
   },
   "outputs": [
    {
     "name": "stdout",
     "output_type": "stream",
     "text": [
      "Wavefunction= [0.70710678 0.         0.70710678 0.        ]\n",
      "Decompressed Wavefunction =  Statevector([-0.45974451-0.07468849j, -0.2262144 -0.82277737j,\n",
      "              0.15497221+0.04825377j,  0.07087897+0.15346797j],\n",
      "            dims=(2, 2))\n",
      "Fidelity= 0.0467924758295793\n",
      "------------------------------------------------------------------\n",
      "Wavefunction= [0.70710678 0.         0.         0.70710678]\n",
      "Decompressed Wavefunction =  Statevector([-0.13782997-0.06452819j, -0.00628863-0.4027899j ,\n",
      "              0.8403959 -0.13033011j,  0.17741583-0.24460618j],\n",
      "            dims=(2, 2))\n",
      "Fidelity= 0.048565547576160745\n",
      "------------------------------------------------------------------\n",
      "Wavefunction= [0. 0. 1. 0.]\n",
      "Decompressed Wavefunction =  Statevector([-0.18030369-0.15277807j, -0.37022217-0.564151j  ,\n",
      "             -0.0474492 +0.14736496j, -0.34915774+0.58561049j],\n",
      "            dims=(2, 2))\n",
      "Fidelity= 0.023967858898713702\n",
      "------------------------------------------------------------------\n",
      "Wavefunction= [0.         0.70710678 0.70710678 0.        ]\n",
      "Decompressed Wavefunction =  Statevector([-0.64880668+0.09550765j, -0.08925216-0.15510074j,\n",
      "              0.09960758+0.13801761j, -0.5163469 +0.49226145j],\n",
      "            dims=(2, 2))\n",
      "Fidelity= 0.00019953402595323207\n",
      "------------------------------------------------------------------\n",
      "Wavefunction= [0. 1. 0. 0.]\n",
      "Decompressed Wavefunction =  Statevector([-0.73724752+0.28784629j,  0.24400055+0.34480543j,\n",
      "              0.18831559+0.04782141j, -0.38106705+0.11055233j],\n",
      "            dims=(2, 2))\n",
      "Fidelity= 0.1784270508067762\n",
      "------------------------------------------------------------------\n",
      "Wavefunction= [0.         0.57735027 0.57735027 0.57735027]\n",
      "Decompressed Wavefunction =  Statevector([-0.3710047 -0.00192893j, -0.10705332-0.10943362j,\n",
      "              0.61358054+0.05195898j, -0.53619481+0.41500599j],\n",
      "            dims=(2, 2))\n",
      "Fidelity= 0.042902942259358416\n",
      "------------------------------------------------------------------\n",
      "Wavefunction= [0. 0. 0. 1.]\n",
      "Decompressed Wavefunction =  Statevector([ 0.27495222-0.13840923j, -0.05920016+0.02980098j,\n",
      "              0.92188629-0.10519079j, -0.19849186+0.02264863j],\n",
      "            dims=(2, 2))\n",
      "Fidelity= 0.03991197968303667\n",
      "------------------------------------------------------------------\n",
      "Wavefunction= [0.         0.57735027 0.57735027 0.57735027]\n",
      "Decompressed Wavefunction =  Statevector([-0.3710047 -0.00192893j, -0.10705332-0.10943362j,\n",
      "              0.61358054+0.05195898j, -0.53619481+0.41500599j],\n",
      "            dims=(2, 2))\n",
      "Fidelity= 0.042902942259358416\n",
      "------------------------------------------------------------------\n",
      "Wavefunction= [0.70710678 0.70710678 0.         0.        ]\n",
      "Decompressed Wavefunction =  Statevector([-0.85356327+0.23687998j,  0.20810665-0.18004812j,\n",
      "              0.32168308-0.02213415j,  0.04831568-0.18244888j],\n",
      "            dims=(2, 2))\n",
      "Fidelity= 0.20992205256521204\n",
      "------------------------------------------------------------------\n",
      "Wavefunction= [0. 0. 0. 1.]\n",
      "Decompressed Wavefunction =  Statevector([ 0.27495222-0.13840923j, -0.05920016+0.02980098j,\n",
      "              0.92188629-0.10519079j, -0.19849186+0.02264863j],\n",
      "            dims=(2, 2))\n",
      "Fidelity= 0.03991197968303667\n",
      "------------------------------------------------------------------\n"
     ]
    }
   ],
   "source": [
    "decompressed_states = []\n",
    "j=0\n",
    "\n",
    "for data in data_list:\n",
    "    data = data.detach().numpy()[0]\n",
    "    print(\"Wavefunction=\", data)\n",
    "    weights = weights_list[j]\n",
    "    params = []\n",
    "    \n",
    "    for i in model.parameters():\n",
    "        params = i.detach().numpy()\n",
    "        \n",
    "    #Getting the unitary equivalent of the encoding circuit   \n",
    "    qc = QuantumCircuit(2,1)\n",
    "    qc.initialize(data, [1, 0])\n",
    "    qc.rx(params[0], 0)\n",
    "    qc.rx(params[1], 1)\n",
    "    qc.crx(params[2], 0, 1)\n",
    "    qc.cry(params[3], 0, 1)\n",
    "    qc.crx(params[4], 1, 0)\n",
    "    qc.cry(params[5], 1, 0)\n",
    "    qc.crx(params[6], 0, 1)\n",
    "    qc.cry(params[7], 0, 1)\n",
    "    qc.ry(params[6], 0)\n",
    "    qc.ry(params[7], 1)\n",
    "    \n",
    "    backend = Aer.get_backend(\"unitary_simulator\")\n",
    "    job = execute(qc, backend)\n",
    "    U = np.asmatrix(job.result().get_unitary().data)\n",
    "    U_dag = U.H\n",
    "    \n",
    "    #circ uses the unitaries of the previous circuit to compress and decompress the data\n",
    "    circ = QuantumCircuit(3, 1)\n",
    "    circ.unitary(U, [0, 1])\n",
    "    circ.measure(0, 0)\n",
    "    circ.unitary(U_dag, [2, 1])\n",
    "    \n",
    "    backend = Aer.get_backend(\"statevector_simulator\")\n",
    "    job = execute(qc, backend)\n",
    "    new_state = job.result().get_statevector()\n",
    "    decompressed_states.append(new_state)\n",
    "    \n",
    "    print(\"Decompressed Wavefunction = \", new_state)\n",
    "    print(\"Fidelity=\", state_fidelity(Statevector(data), new_state))\n",
    "    j+=1\n",
    "    print(\"------------------------------------------------------------------\")"
   ]
  },
  {
   "cell_type": "markdown",
   "id": "758312a7",
   "metadata": {},
   "source": [
    "The following cell produces some visuals of the decompressed data. Since the binary input data is entirely real, I chose to ony display the real part of the decompressed statevectors, where the decompressed statevectors refer to those that have undergone compression and decompression. One of the reasons the model performed so poorly is likely the choice of rotations I implemented in the circuit. I was not able to find a combination that worked well."
   ]
  },
  {
   "cell_type": "code",
   "execution_count": 32,
   "id": "f4a85424",
   "metadata": {},
   "outputs": [
    {
     "data": {
      "image/png": "[encoded data removed]",
      "text/plain": [
       "<Figure size 720x720 with 10 Axes>"
      ]
     },
     "metadata": {
      "needs_background": "light"
     },
     "output_type": "display_data"
    },
    {
     "data": {
      "image/png": "[encoded data removed]",
      "text/plain": [
       "<Figure size 720x720 with 10 Axes>"
      ]
     },
     "metadata": {
      "needs_background": "light"
     },
     "output_type": "display_data"
    }
   ],
   "source": [
    "data_iter = iter(train_loader)\n",
    "fig, axes = plt.subplots(nrows=1, ncols=10, figsize=(10, 10))\n",
    "axes[0].set_title(\"Inputted images\")\n",
    "for i in range(10):\n",
    "    images = data_iter.__next__()\n",
    "    axes[i].imshow(images.reshape(2, 2), cmap='gray')\n",
    "fig, axes = plt.subplots(nrows=1, ncols=10, figsize=(10, 10))\n",
    "axes[0].set_title(\"Decompressed images\")\n",
    "for i in range(10):\n",
    "    images = np.array(list(decompressed_states[i].to_dict().values())).real\n",
    "    axes[i].imshow(images.reshape(2, 2), cmap='gray')"
   ]
  }
 ],
 "metadata": {
  "kernelspec": {
   "display_name": "Python 3 (ipykernel)",
   "language": "python",
   "name": "python3"
  },
  "language_info": {
   "codemirror_mode": {
    "name": "ipython",
    "version": 3
   },
   "file_extension": ".py",
   "mimetype": "text/x-python",
   "name": "python",
   "nbconvert_exporter": "python",
   "pygments_lexer": "ipython3",
   "version": "3.9.7"
  }
 },
 "nbformat": 4,
 "nbformat_minor": 5
}
